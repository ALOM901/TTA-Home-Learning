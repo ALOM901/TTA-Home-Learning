{
 "cells": [
  {
   "cell_type": "markdown",
   "metadata": {},
   "source": [
    "Task 1\n",
    " Create a flow chart/pseudocode and program.\n",
    "\n",
    "PSEUDOCODE\n",
    "\n",
    "OUTPUT \"How old are you?\"\n",
    "\n",
    "INPUT User inputs their age\n",
    "STORE the user's input in the age variable\n",
    "IF age < 16 THEN\n",
    "\tOUTPUT \"You are eligible for a discount.\"\n",
    "ELSE\n",
    "\tOUTPUT \"You are not eligible for a discount.\""
   ]
  },
  {
   "cell_type": "code",
   "execution_count": 2,
   "metadata": {},
   "outputs": [
    {
     "name": "stdout",
     "output_type": "stream",
     "text": [
      "You are eligible for a discount.\n"
     ]
    }
   ],
   "source": [
    "age = int(input(\"How old are you?\"))\n",
    "if age < 16:\n",
    "\tprint(\"You are eligible for a discount.\")\n",
    "else:\n",
    " \tprint(\"You are not eligible for a discount.\")"
   ]
  },
  {
   "cell_type": "markdown",
   "metadata": {},
   "source": [
    "Task 2\n",
    "As an extension to the motorbike task that costs £2000 and loses 10% of its value every year. Set up a function that performs the calculation by passing in parameters. Then using a loop, print the value of the bike every following year until it falls below £1000.\n",
    "\n",
    "Solution\n",
    "1. Outside of the function, Store the value of the bike against a variable\n",
    "2. Define your function and state which parameters you want to pass in\n",
    "3. Set up a return\n",
    "4. Create a while loop which subtracts 10% of the bikes value untill the value reaches £1000\n",
    "5. Call your function and pass in your parameters"
   ]
  },
  {
   "cell_type": "code",
   "execution_count": 78,
   "metadata": {},
   "outputs": [
    {
     "name": "stdout",
     "output_type": "stream",
     "text": [
      "the bike is worth £ 2000 in 2021\n",
      "the bike is worth £ 1800.0 in 2022\n",
      "the bike is worth £ 1620.0 in 2023\n",
      "the bike is worth £ 1458.0 in 2024\n",
      "the bike is worth £ 1312.2 in 2025\n",
      "the bike is worth £ 1180.98 in 2026\n",
      "the bike is worth £ 1062.882 in 2027\n"
     ]
    },
    {
     "data": {
      "text/plain": [
       "957"
      ]
     },
     "execution_count": 78,
     "metadata": {},
     "output_type": "execute_result"
    }
   ],
   "source": [
    "\n",
    "\n",
    "def calculate(bike_value, current_year):\n",
    "    while bike_value >= 1000:\n",
    "      print(\"the bike is worth £\" ,bike_value, \"in\", current_year)\n",
    "      bike_value *= 0.9\n",
    "      current_year += 1\n",
    "    return round (bike_value)\n",
    "    \n",
    "\n",
    "calculate(2000,2021)"
   ]
  },
  {
   "cell_type": "markdown",
   "metadata": {},
   "source": [
    "Task 3\n",
    "Write a program which will ask for two numbers from a user. Then offer an option menu to the user giving them a choice of maths operators. Once the user has selected which operator they wish to use, perform the calculation by using a procedure and passing parameters. \n",
    "\n",
    "Solution\n",
    "\n",
    "\n",
    "1. Ask the user to pick a number\n",
    "2. Ask the user to pick a second number\n",
    "3. Ask the user to pick an operator\n",
    "4. Define your procedure and state your parameters\n",
    "5. Create an IF statement to carry out the math operation using the users choice of numbers and choice of operator\n",
    "6. Call your procedure and pass in the parameters you want to use"
   ]
  },
  {
   "cell_type": "code",
   "execution_count": 83,
   "metadata": {},
   "outputs": [
    {
     "name": "stdout",
     "output_type": "stream",
     "text": [
      "10\n"
     ]
    }
   ],
   "source": [
    "num_1 = int(input(\"Please enter a number: \"))\n",
    "num_2 = int(input(\"Please enter a second number: \"))\n",
    "sign = input(\"Please enter a operator choice(+,-,/,*,**,%,//):\")\n",
    "\n",
    "\n",
    "def procedure_name(num_1, num_2, sign):\n",
    "    if sign == \"+\":  \n",
    "     print(num_1 + num_2)\n",
    " \n",
    "    elif sign == \"-\":\n",
    "     print(num_1 - num_2)\n",
    "\n",
    "    elif sign == \"/\":\n",
    "     print(num_1 / num_2)\n",
    "\n",
    "    elif sign == \"*\":\n",
    "     print(num_1 * num_2)\n",
    "\n",
    "    elif sign == \"**\":\n",
    "     print(num_1 ** num_2)\n",
    "\n",
    "    elif sign == \"%\":\n",
    "     print(num_1 % num_2)\n",
    "    elif sign == \"//\":\n",
    "     print(num_1 // num_2)\n",
    "    else:\n",
    "     print(\"An appropriate operator was not selected!\")\n",
    "\n",
    "\n",
    "procedure_name(num_1,num_2,sign)"
   ]
  }
 ],
 "metadata": {
  "interpreter": {
   "hash": "1ec83b26e2deb804c741a3aea211079ab41aeb7ec82d4ff5b8db11d6666b38e6"
  },
  "kernelspec": {
   "display_name": "Python 3.10.0 64-bit",
   "language": "python",
   "name": "python3"
  },
  "language_info": {
   "name": "python",
   "version": "3.10.0"
  },
  "orig_nbformat": 4
 },
 "nbformat": 4,
 "nbformat_minor": 2
}
