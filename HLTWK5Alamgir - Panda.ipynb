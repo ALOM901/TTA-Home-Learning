{
 "cells": [
  {
   "cell_type": "code",
   "execution_count": 3,
   "metadata": {},
   "outputs": [],
   "source": [
    "import pandas as pd  \n",
    "        \n",
    "\n",
    "destination_data = pd.read_csv(\"Hotel Destination.csv\") "
   ]
  },
  {
   "cell_type": "markdown",
   "metadata": {},
   "source": [
    "1.How many rows and columns are there in your file?\n"
   ]
  },
  {
   "cell_type": "code",
   "execution_count": 4,
   "metadata": {},
   "outputs": [
    {
     "name": "stdout",
     "output_type": "stream",
     "text": [
      "(15, 5)\n"
     ]
    }
   ],
   "source": [
    "print(destination_data.shape)"
   ]
  },
  {
   "cell_type": "markdown",
   "metadata": {},
   "source": [
    "2.Print row 3-8 ( using iloc/loc).\n"
   ]
  },
  {
   "cell_type": "code",
   "execution_count": 5,
   "metadata": {},
   "outputs": [
    {
     "name": "stdout",
     "output_type": "stream",
     "text": [
      "  Destination  Feedback 1-10  Average hotel star rating 1-5  \\\n",
      "3  Seychelles              6                              3   \n",
      "4      Turkey              9                              4   \n",
      "5    Thailand              8                              4   \n",
      "6   Mauritius             10                              5   \n",
      "7    Malaysia              7                              4   \n",
      "\n",
      "   No. of All inc hotels nearby Most visited city in destination  \n",
      "3                           329                      Mahe Island  \n",
      "4                           283                         Istanbul  \n",
      "5                          1800                           Phuket  \n",
      "6                           150                       Port Louis  \n",
      "7                           444                     Kuala Lumpur  \n"
     ]
    }
   ],
   "source": [
    "print(destination_data.iloc[3:8])"
   ]
  },
  {
   "cell_type": "markdown",
   "metadata": {},
   "source": [
    "\n",
    "3.Find the mean number of all-inclusive hotels across all destinations.\n"
   ]
  },
  {
   "cell_type": "code",
   "execution_count": 6,
   "metadata": {},
   "outputs": [
    {
     "name": "stdout",
     "output_type": "stream",
     "text": [
      "500.13\n"
     ]
    }
   ],
   "source": [
    "print(round(destination_data[\"No. of All inc hotels nearby\"].mean(),2))"
   ]
  },
  {
   "cell_type": "markdown",
   "metadata": {},
   "source": [
    "\n",
    "4.Find the lowest scoring destination.\n"
   ]
  },
  {
   "cell_type": "code",
   "execution_count": 7,
   "metadata": {},
   "outputs": [
    {
     "name": "stdout",
     "output_type": "stream",
     "text": [
      "11    France\n",
      "Name: Destination, dtype: object\n"
     ]
    }
   ],
   "source": [
    "minFilter = destination_data[\"Feedback 1-10\"] == destination_data[\"Feedback 1-10\"].min()\n",
    "print(destination_data[minFilter].Destination)"
   ]
  },
  {
   "cell_type": "markdown",
   "metadata": {},
   "source": [
    "5.Find the highest scoring destination.\n"
   ]
  },
  {
   "cell_type": "code",
   "execution_count": 8,
   "metadata": {},
   "outputs": [
    {
     "name": "stdout",
     "output_type": "stream",
     "text": [
      "6    Mauritius\n",
      "Name: Destination, dtype: object\n"
     ]
    }
   ],
   "source": [
    "maxFilter = destination_data[\"Feedback 1-10\"] == destination_data[\"Feedback 1-10\"].max()\n",
    "print(destination_data[maxFilter].Destination)"
   ]
  },
  {
   "cell_type": "markdown",
   "metadata": {},
   "source": [
    "6.Find all the destinations where there are more than 9 all-inclusive hotels. \n"
   ]
  },
  {
   "cell_type": "code",
   "execution_count": 9,
   "metadata": {},
   "outputs": [
    {
     "name": "stdout",
     "output_type": "stream",
     "text": [
      "0            UAE\n",
      "1      Carribean\n",
      "2           Bali\n",
      "3     Seychelles\n",
      "4         Turkey\n",
      "5       Thailand\n",
      "6      Mauritius\n",
      "7       Malaysia\n",
      "8         Hawaii\n",
      "9          Italy\n",
      "10      Portugal\n",
      "11        France\n",
      "12          Fiji\n",
      "13     Australia\n",
      "14      Cambodia\n",
      "Name: Destination, dtype: object\n"
     ]
    }
   ],
   "source": [
    "minInclusive = destination_data[\"No. of All inc hotels nearby\"] > 9\n",
    "print(destination_data[minInclusive].Destination)"
   ]
  },
  {
   "cell_type": "markdown",
   "metadata": {},
   "source": [
    " \n",
    "7.Filter the data by score above 8.  \n"
   ]
  },
  {
   "cell_type": "code",
   "execution_count": 10,
   "metadata": {},
   "outputs": [
    {
     "name": "stdout",
     "output_type": "stream",
     "text": [
      "0          UAE\n",
      "4       Turkey\n",
      "6    Mauritius\n",
      "Name: Destination, dtype: object\n"
     ]
    }
   ],
   "source": [
    "minInclusive = destination_data[\"Feedback 1-10\"] > 8;\n",
    "print(destination_data[minInclusive].Destination);"
   ]
  },
  {
   "cell_type": "markdown",
   "metadata": {},
   "source": [
    "\n",
    "8.Filter the data score below 2 ( I need to know if these destinations should be removed or there is a problem)  "
   ]
  },
  {
   "cell_type": "code",
   "execution_count": 11,
   "metadata": {},
   "outputs": [
    {
     "name": "stdout",
     "output_type": "stream",
     "text": [
      "9        Italy\n",
      "14    Cambodia\n",
      "Name: Destination, dtype: object\n"
     ]
    }
   ],
   "source": [
    "maxHotelStar = destination_data[\"Average hotel star rating 1-5\"] <= 2\n",
    "print(destination_data[maxHotelStar].Destination)"
   ]
  },
  {
   "cell_type": "markdown",
   "metadata": {},
   "source": [
    "\n",
    "Extension                                                                                                                    \n",
    "\n",
    "1.Is there a correlation between number of all-inclusive hotels and score?\n",
    "\n"
   ]
  },
  {
   "cell_type": "code",
   "execution_count": 14,
   "metadata": {},
   "outputs": [
    {
     "name": "stdout",
     "output_type": "stream",
     "text": [
      "AxesSubplot(0.125,0.125;0.775x0.755)\n"
     ]
    },
    {
     "data": {
      "image/png": "[encoded data removed]",
      "text/plain": [
       "<Figure size 432x288 with 1 Axes>"
      ]
     },
     "metadata": {
      "needs_background": "light"
     },
     "output_type": "display_data"
    }
   ],
   "source": [
    "print(destination_data.plot.scatter(x=\"Average hotel star rating 1-5\", y=\"No. of All inc hotels nearby\"))\n",
    "#evenly scattered for star rating, not much correlation"
   ]
  },
  {
   "cell_type": "markdown",
   "metadata": {},
   "source": [
    "\n",
    "Extension                                                                                                                    \n",
    "\n",
    "2.Create a data visualisation diagram to show destination and highest scores?"
   ]
  },
  {
   "cell_type": "code",
   "execution_count": 15,
   "metadata": {},
   "outputs": [
    {
     "name": "stdout",
     "output_type": "stream",
     "text": [
      "AxesSubplot(0.125,0.125;0.775x0.755)\n"
     ]
    },
    {
     "data": {
      "image/png": "[encoded data removed]",
      "text/plain": [
       "<Figure size 432x288 with 1 Axes>"
      ]
     },
     "metadata": {
      "needs_background": "light"
     },
     "output_type": "display_data"
    }
   ],
   "source": [
    "print(destination_data.plot.bar(x = \"Destination\", y = \"Feedback 1-10\"))"
   ]
  }
 ],
 "metadata": {
  "interpreter": {
   "hash": "1ec83b26e2deb804c741a3aea211079ab41aeb7ec82d4ff5b8db11d6666b38e6"
  },
  "kernelspec": {
   "display_name": "Python 3.10.0 64-bit",
   "language": "python",
   "name": "python3"
  },
  "language_info": {
   "codemirror_mode": {
    "name": "ipython",
    "version": 3
   },
   "file_extension": ".py",
   "mimetype": "text/x-python",
   "name": "python",
   "nbconvert_exporter": "python",
   "pygments_lexer": "ipython3",
   "version": "3.8.5"
  },
  "orig_nbformat": 4
 },
 "nbformat": 4,
 "nbformat_minor": 2
}
