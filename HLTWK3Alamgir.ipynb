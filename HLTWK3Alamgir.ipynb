{
 "cells": [
  {
   "cell_type": "markdown",
   "metadata": {},
   "source": [
    "Task 1\n",
    "Write a program that allows you to enter 4 numbers and stores them in a file called “Numbers”\n",
    "•3\n",
    "•45\n",
    "•83\n",
    "•21"
   ]
  },
  {
   "cell_type": "markdown",
   "metadata": {},
   "source": [
    "Task 1 w\n"
   ]
  },
  {
   "cell_type": "code",
   "execution_count": 45,
   "metadata": {},
   "outputs": [],
   "source": [
    "\n",
    "my_file = open(\"Numbers.txt\", \"w\")\n",
    "\n",
    "my_file.write(f'{input(\"please enter first number\")}\\n')\n",
    "my_file.write(f'{input(\"please enter second number\")}\\n')\n",
    "my_file.write(f'{input(\"please enter third number\")}\\n')\n",
    "my_file.write(f'{input(\"please enter fourth number\")}\\n')\n",
    "\n",
    "my_file.close()"
   ]
  },
  {
   "cell_type": "markdown",
   "metadata": {},
   "source": [
    "Task 1 r\n"
   ]
  },
  {
   "cell_type": "code",
   "execution_count": 46,
   "metadata": {},
   "outputs": [
    {
     "name": "stdout",
     "output_type": "stream",
     "text": [
      "1,2,3,4,\n"
     ]
    }
   ],
   "source": [
    "#\n",
    "with open(\"Numbers.txt\",\"r\") as myfile:\n",
    "    data = myfile.read().replace('\\n',',')\n",
    "    print(data)\n",
    "myfile.close()"
   ]
  },
  {
   "cell_type": "markdown",
   "metadata": {},
   "source": [
    "Task 1 a"
   ]
  },
  {
   "cell_type": "code",
   "execution_count": 47,
   "metadata": {},
   "outputs": [],
   "source": [
    "#Append chosen number to file\n",
    "my_file = open(\"Numbers.txt\",\"a\")\n",
    "\n",
    "my_file.write(f'{input(\"please enter number to append to file\")}')\n",
    "\n",
    "my_file.close()"
   ]
  },
  {
   "cell_type": "markdown",
   "metadata": {},
   "source": [
    "Task 2\n",
    "\n",
    "Write a program to ask a student for their percentage mark and convert this to a grade.The conversion will be done in a function called mark_grade"
   ]
  },
  {
   "cell_type": "code",
   "execution_count": 8,
   "metadata": {},
   "outputs": [
    {
     "name": "stdout",
     "output_type": "stream",
     "text": [
      "Grade Achieved: D\n"
     ]
    }
   ],
   "source": [
    "grade_value = {\n",
    "    80:\"A*\",\n",
    "    70:\"A\",\n",
    "    60:\"B\",\n",
    "    50:\"C\",\n",
    "    40:\"D\",\n",
    "    0:\"F\"\n",
    "}\n",
    "\n",
    "def mark_grade(percentage_mark):\n",
    "    for percentage, grade in grade_value .items():\n",
    "        if percentage_mark >= percentage:\n",
    "            print(f\"Grade Achieved: {grade}\") \n",
    "            break\n",
    "\n",
    "try:\n",
    "    mark_grade(float(input(\"Please enter your percentage mark\")))\n",
    "except:\n",
    "    print(\"Please enter a numeric value\")"
   ]
  },
  {
   "cell_type": "markdown",
   "metadata": {},
   "source": [
    "Task 2 Extention\n",
    "•Ask the user for their target grade and print this with their mark\n",
    "•If their target grade > exam grade display a suitable message\n",
    "•If their target grade = exam grade display a suitable message\n",
    "•If their target grade < exam grade display a suitable message"
   ]
  },
  {
   "cell_type": "code",
   "execution_count": null,
   "metadata": {},
   "outputs": [],
   "source": []
  },
  {
   "cell_type": "markdown",
   "metadata": {},
   "source": [
    "NumPy Tasks\n",
    "1.Create a 1D array of numbers from 0 to 9 "
   ]
  },
  {
   "cell_type": "code",
   "execution_count": 1,
   "metadata": {},
   "outputs": [
    {
     "name": "stdout",
     "output_type": "stream",
     "text": [
      "[0 1 2 3 4 5 6 7 8 9]\n"
     ]
    }
   ],
   "source": [
    "import numpy as np  \n",
    "\n",
    "array = np.arange(10)\n",
    "print (array)   "
   ]
  },
  {
   "cell_type": "markdown",
   "metadata": {},
   "source": [
    "2.Create a 3×3 NumPy array of all Boolean value Trues\n"
   ]
  },
  {
   "cell_type": "code",
   "execution_count": 2,
   "metadata": {},
   "outputs": [
    {
     "name": "stdout",
     "output_type": "stream",
     "text": [
      "[[1. 1. 1.]\n",
      " [1. 1. 1.]\n",
      " [1. 1. 1.]]\n"
     ]
    }
   ],
   "source": [
    "\n",
    "\n",
    "array = np.ones((3,3))\n",
    "print(array)"
   ]
  },
  {
   "cell_type": "markdown",
   "metadata": {},
   "source": [
    "3.Extract all odd numbers from array of 1-10"
   ]
  },
  {
   "cell_type": "code",
   "execution_count": 4,
   "metadata": {},
   "outputs": [
    {
     "name": "stdout",
     "output_type": "stream",
     "text": [
      "[ 2  4  6  8 10]\n"
     ]
    }
   ],
   "source": [
    "array = np.arange(2,11,2)\n",
    "print( array)"
   ]
  },
  {
   "cell_type": "markdown",
   "metadata": {},
   "source": [
    "4.Replace all odd numbers in an array of 1-10 with the value -1"
   ]
  },
  {
   "cell_type": "code",
   "execution_count": 5,
   "metadata": {},
   "outputs": [
    {
     "name": "stdout",
     "output_type": "stream",
     "text": [
      "[-1  2 -1  4 -1  6 -1  8 -1 10]\n"
     ]
    }
   ],
   "source": [
    "array = np.arange(1,11)\n",
    "odd_value = array [array % 2 ==1] = -1\n",
    "print(array)\n"
   ]
  },
  {
   "cell_type": "markdown",
   "metadata": {},
   "source": [
    "5.Convert a 1D array to a 2D array with 2 rows"
   ]
  },
  {
   "cell_type": "code",
   "execution_count": 6,
   "metadata": {},
   "outputs": [
    {
     "data": {
      "text/plain": [
       "array([[ 1,  2],\n",
       "       [ 3,  4],\n",
       "       [ 5,  6],\n",
       "       [ 7,  8],\n",
       "       [ 9, 10]])"
      ]
     },
     "execution_count": 6,
     "metadata": {},
     "output_type": "execute_result"
    }
   ],
   "source": [
    "array =np.arange(1,11)\n",
    "np.resize(array, 10).reshape(5,2)"
   ]
  },
  {
   "cell_type": "markdown",
   "metadata": {},
   "source": [
    "6.Create two arrays a and b, stack these two arrays vertically use the  np.dot and np.sum to calculate totals"
   ]
  },
  {
   "cell_type": "code",
   "execution_count": 16,
   "metadata": {},
   "outputs": [
    {
     "name": "stdout",
     "output_type": "stream",
     "text": [
      "[[1 2 3]\n",
      " [4 5 6]\n",
      " [7 8 9]]\n",
      "[[11 12 13]\n",
      " [14 15 16]\n",
      " [17 18 19]]\n",
      "[[ 90  96 102]\n",
      " [216 231 246]\n",
      " [342 366 390]]\n",
      "2079\n"
     ]
    }
   ],
   "source": [
    "a = np.arange(1,10,1).reshape(3,3)\n",
    "b = np.arange(11,20,1).reshape(3,3)\n",
    "c = np.dot(a,b)\n",
    "d = np.sum(c)\n",
    "\n",
    "print(a)\n",
    "print(b)\n",
    "print(c)\n",
    "print(d)"
   ]
  },
  {
   "cell_type": "markdown",
   "metadata": {},
   "source": [
    "NumPy Tasks Extension\n",
    "\n",
    "1.Create the following pattern without hardcoding. Use only NumPy functions."
   ]
  },
  {
   "cell_type": "code",
   "execution_count": 32,
   "metadata": {},
   "outputs": [
    {
     "data": {
      "text/plain": [
       "array([1, 1, 1, 2, 2, 2, 3, 3, 3, 1, 2, 3, 1, 2, 3, 1, 2, 3])"
      ]
     },
     "execution_count": 32,
     "metadata": {},
     "output_type": "execute_result"
    }
   ],
   "source": [
    "a = np.array([1,2,3])\n",
    "np.r_[np.repeat(a, 3), np.tile(a, 3)]"
   ]
  },
  {
   "cell_type": "markdown",
   "metadata": {},
   "source": [
    "2.In two arrays a ( 1,2,3,4,5) and b ( 4,5,6,7,8,9) –remove all repeating  items present in array b"
   ]
  },
  {
   "cell_type": "code",
   "execution_count": 36,
   "metadata": {},
   "outputs": [
    {
     "name": "stdout",
     "output_type": "stream",
     "text": [
      "[6, 7, 8, 9]\n"
     ]
    }
   ],
   "source": [
    "\n",
    "a = [1,2,3,4,5]\n",
    "b = [4,5,6,7,8,9]\n",
    "\n",
    "new_list = list(sorted(set(b)-set(a))) \n",
    "print(new_list)"
   ]
  },
  {
   "cell_type": "markdown",
   "metadata": {},
   "source": [
    "3.Get all items between 3 and 7 from a and b and sum them together"
   ]
  },
  {
   "cell_type": "code",
   "execution_count": 3,
   "metadata": {},
   "outputs": [
    {
     "name": "stdout",
     "output_type": "stream",
     "text": [
      "[0 1 2 3 4 5 4 5 6 7 8 9]\n"
     ]
    },
    {
     "data": {
      "text/plain": [
       "24"
      ]
     },
     "execution_count": 3,
     "metadata": {},
     "output_type": "execute_result"
    }
   ],
   "source": [
    "a = np.arange(0,6)\n",
    "b = np.arange(4,10)\n",
    "c = np.concatenate((a, b))\n",
    "print(c)\n",
    "c[np.logical_and(c>3,c<7)].sum()"
   ]
  }
 ],
 "metadata": {
  "interpreter": {
   "hash": "1ec83b26e2deb804c741a3aea211079ab41aeb7ec82d4ff5b8db11d6666b38e6"
  },
  "kernelspec": {
   "display_name": "Python 3.10.0 64-bit",
   "language": "python",
   "name": "python3"
  },
  "language_info": {
   "codemirror_mode": {
    "name": "ipython",
    "version": 3
   },
   "file_extension": ".py",
   "mimetype": "text/x-python",
   "name": "python",
   "nbconvert_exporter": "python",
   "pygments_lexer": "ipython3",
   "version": "3.8.5"
  },
  "orig_nbformat": 4
 },
 "nbformat": 4,
 "nbformat_minor": 2
}
